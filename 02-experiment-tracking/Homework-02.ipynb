{
 "cells": [
  {
   "cell_type": "code",
   "execution_count": 2,
   "id": "b2ada750",
   "metadata": {},
   "outputs": [],
   "source": [
    "import pandas as pd\n",
    "from sklearn.metrics import mean_squared_error\n"
   ]
  },
  {
   "cell_type": "code",
   "execution_count": 4,
   "id": "51dd6814",
   "metadata": {},
   "outputs": [
    {
     "name": "stdout",
     "output_type": "stream",
     "text": [
      "mlflow, version 2.22.0\n"
     ]
    }
   ],
   "source": [
    "! mlflow --version\n"
   ]
  },
  {
   "cell_type": "code",
   "execution_count": 3,
   "id": "f5532506-4ebc-4ae6-800b-3cd5ddfcda57",
   "metadata": {},
   "outputs": [
    {
     "ename": "SyntaxError",
     "evalue": "invalid syntax (3380425439.py, line 1)",
     "output_type": "error",
     "traceback": [
      "\u001b[0;36m  Cell \u001b[0;32mIn[3], line 1\u001b[0;36m\u001b[0m\n\u001b[0;31m    which python\u001b[0m\n\u001b[0m          ^\u001b[0m\n\u001b[0;31mSyntaxError\u001b[0m\u001b[0;31m:\u001b[0m invalid syntax\n"
     ]
    }
   ],
   "source": [
    "\n",
    "\n"
   ]
  },
  {
   "cell_type": "code",
   "execution_count": 4,
   "id": "7f0d333a",
   "metadata": {},
   "outputs": [
    {
     "data": {
      "text/plain": [
       "'/workspaces/MLOPS/02-experiment-tracking'"
      ]
     },
     "execution_count": 4,
     "metadata": {},
     "output_type": "execute_result"
    }
   ],
   "source": [
    "import os\n",
    "os.getcwd()\n"
   ]
  },
  {
   "cell_type": "code",
   "execution_count": 5,
   "id": "30035f73",
   "metadata": {},
   "outputs": [],
   "source": [
    "!python \"homework/preprocess_data.py\" --raw_data_path \"TAXI_DATA_FOLDER/\" --dest_path \"Output\"\n"
   ]
  },
  {
   "cell_type": "code",
   "execution_count": 6,
   "id": "af0f6319",
   "metadata": {},
   "outputs": [
    {
     "name": "stdout",
     "output_type": "stream",
     "text": [
      "dv.pkl\ttest.pkl  train.pkl  val.pkl\n"
     ]
    }
   ],
   "source": [
    "!ls \"/workspaces/MLOPS/02-experiment-tracking/Output\""
   ]
  },
  {
   "cell_type": "code",
   "execution_count": 8,
   "id": "6db255c3",
   "metadata": {},
   "outputs": [
    {
     "name": "stdout",
     "output_type": "stream",
     "text": [
      "/workspaces/MLOPS/02-experiment-tracking/homework/train.py:19: DeprecationWarning: Please import `csr_matrix` from the `scipy.sparse` namespace; the `scipy.sparse.csr` namespace is deprecated and will be removed in SciPy 2.0.0.\n",
      "  return pickle.load(f_in)\n",
      "2025/05/25 13:54:33 INFO mlflow.utils.autologging_utils: Created MLflow autologging run with ID 'ae789406540f428f8dfb0cd462bc37c8', which will track hyperparameters, performance metrics, model artifacts, and lineage information for the current sklearn workflow\n"
     ]
    }
   ],
   "source": [
    "!python \"homework/train.py\" --data_path \"Output\"\n"
   ]
  },
  {
   "cell_type": "code",
   "execution_count": null,
   "id": "ba5bf9b5",
   "metadata": {},
   "outputs": [],
   "source": []
  }
 ],
 "metadata": {
  "kernelspec": {
   "display_name": "Python 3 (ipykernel)",
   "language": "python",
   "name": "python3"
  },
  "language_info": {
   "codemirror_mode": {
    "name": "ipython",
    "version": 3
   },
   "file_extension": ".py",
   "mimetype": "text/x-python",
   "name": "python",
   "nbconvert_exporter": "python",
   "pygments_lexer": "ipython3",
   "version": "3.9.21"
  }
 },
 "nbformat": 4,
 "nbformat_minor": 5
}
