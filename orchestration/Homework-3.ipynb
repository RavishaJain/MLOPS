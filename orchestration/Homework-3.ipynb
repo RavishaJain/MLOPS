{
 "cells": [
  {
   "cell_type": "code",
   "execution_count": 6,
   "id": "1815832e-8bf4-4860-bfd7-f9bf1b2c7a31",
   "metadata": {},
   "outputs": [],
   "source": [
    "import pandas as pd\n",
    "from sklearn.feature_extraction import DictVectorizer\n",
    "from sklearn.linear_model import LinearRegression\n",
    "import mlflow\n",
    "import mlflow.sklearn\n",
    "import pickle\n",
    "from mlflow.models.signature import infer_signature"
   ]
  },
  {
   "cell_type": "code",
   "execution_count": 2,
   "id": "ea0ce87a-ed68-4efb-99c6-4bb906a8966d",
   "metadata": {},
   "outputs": [
    {
     "data": {
      "text/plain": [
       "'1.6.1'"
      ]
     },
     "execution_count": 2,
     "metadata": {},
     "output_type": "execute_result"
    }
   ],
   "source": [
    "sklearn.__version__"
   ]
  },
  {
   "cell_type": "code",
   "execution_count": null,
   "id": "5f47062b-445c-4ff7-971f-306aaf04781e",
   "metadata": {},
   "outputs": [],
   "source": [
    "import pandas as pd\n",
    "\n",
    "# Read March 2023 Yellow taxi trip data\n",
    "df = pd.read_parquet('https://d37ci6vzurychx.cloudfront.net/trip-data/yellow_tripdata_2023-03.parquet')\n",
    "\n",
    "# Print the number of rows\n",
    "print(f\"Number of records loaded: {len(df)}\")\n"
   ]
  },
  {
   "cell_type": "code",
   "execution_count": 2,
   "id": "0fcfa5ce-4dd3-4810-b6c5-e1615d2585cc",
   "metadata": {},
   "outputs": [
    {
     "name": "stdout",
     "output_type": "stream",
     "text": [
      "Cleaned data size: 3316216\n"
     ]
    }
   ],
   "source": [
    "def read_dataframe(filename):\n",
    "    df = pd.read_parquet(filename)\n",
    "\n",
    "    df['duration'] = df.tpep_dropoff_datetime - df.tpep_pickup_datetime\n",
    "    df.duration = df.duration.dt.total_seconds() / 60\n",
    "\n",
    "    df = df[(df.duration >= 1) & (df.duration <= 60)]\n",
    "\n",
    "    categorical = ['PULocationID', 'DOLocationID']\n",
    "    df[categorical] = df[categorical].astype(str)\n",
    "\n",
    "    return df\n",
    "\n",
    "# Load and process data\n",
    "url = 'https://d37ci6vzurychx.cloudfront.net/trip-data/yellow_tripdata_2023-03.parquet'\n",
    "df = read_dataframe(url)\n",
    "\n",
    "print(f\"Cleaned data size: {len(df)}\")\n"
   ]
  },
  {
   "cell_type": "code",
   "execution_count": 3,
   "id": "2ad789df-79d6-42e4-b02f-7be6c41630bb",
   "metadata": {},
   "outputs": [],
   "source": [
    "categorical = ['PULocationID', 'DOLocationID']\n",
    "dv = DictVectorizer()\n",
    "\n",
    "train_dicts = df[categorical].to_dict(orient='records')\n",
    "X_train = dv.fit_transform(train_dicts)\n",
    "y_train = df['duration'].values\n"
   ]
  },
  {
   "cell_type": "code",
   "execution_count": 8,
   "id": "f0e23147-ffef-4c6b-addf-999877677ff7",
   "metadata": {},
   "outputs": [
    {
     "name": "stdout",
     "output_type": "stream",
     "text": [
      "Intercept: 24.77\n"
     ]
    }
   ],
   "source": [
    "lr = LinearRegression()\n",
    "lr.fit(X_train, y_train)\n",
    "\n",
    "print(f\"Intercept: {lr.intercept_:.2f}\")\n"
   ]
  },
  {
   "cell_type": "code",
   "execution_count": 9,
   "id": "c49fa44d-f5a1-4c3e-8f27-8d8555c60fc4",
   "metadata": {},
   "outputs": [
    {
     "name": "stderr",
     "output_type": "stream",
     "text": [
      "Registered model 'lin_reg_yellow_taxi' already exists. Creating a new version of this model...\n",
      "2025/06/08 17:45:50 INFO mlflow.store.model_registry.abstract_store: Waiting up to 300 seconds for model version to finish creation. Model name: lin_reg_yellow_taxi, version 2\n"
     ]
    },
    {
     "name": "stdout",
     "output_type": "stream",
     "text": [
      "🏃 View run unleashed-boar-647 at: http://localhost:5000/#/experiments/0/runs/93bff16307ab4f008e09fbc1367f3554\n",
      "🧪 View experiment at: http://localhost:5000/#/experiments/0\n"
     ]
    },
    {
     "name": "stderr",
     "output_type": "stream",
     "text": [
      "Created version '2' of model 'lin_reg_yellow_taxi'.\n"
     ]
    }
   ],
   "source": [
    "mlflow.set_tracking_uri(\"http://localhost:5000\")  # Adjust URI if needed\n",
    "\n",
    "input_example = X_train[:5]\n",
    "signature = infer_signature(X_train, y_train)\n",
    "\n",
    "with mlflow.start_run():\n",
    "    mlflow.sklearn.log_model(\n",
    "        lr,\n",
    "        artifact_path=\"model\",\n",
    "        registered_model_name=\"lin_reg_yellow_taxi\",\n",
    "        signature=signature,\n",
    "        input_example=input_example\n",
    "    )\n",
    "    mlflow.log_artifact(\"dict_vectorizer.pkl\")\n"
   ]
  },
  {
   "cell_type": "code",
   "execution_count": null,
   "id": "c0382d29-6497-4f59-b623-0c4bf8237a25",
   "metadata": {},
   "outputs": [],
   "source": []
  }
 ],
 "metadata": {
  "kernelspec": {
   "display_name": "Python 3 (ipykernel)",
   "language": "python",
   "name": "python3"
  },
  "language_info": {
   "codemirror_mode": {
    "name": "ipython",
    "version": 3
   },
   "file_extension": ".py",
   "mimetype": "text/x-python",
   "name": "python",
   "nbconvert_exporter": "python",
   "pygments_lexer": "ipython3",
   "version": "3.9.21"
  }
 },
 "nbformat": 4,
 "nbformat_minor": 5
}
